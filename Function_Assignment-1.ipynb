{
 "cells": [
  {
   "cell_type": "markdown",
   "id": "a29f603c-f180-42c5-88ec-c62cd1c7cb45",
   "metadata": {},
   "source": [
    "### Q1. Which keyword is used to create a function? Create a function to return a list of odd numbers in the range of 1 to 25."
   ]
  },
  {
   "cell_type": "markdown",
   "id": "4b4efecd-1c51-4ba8-a312-be484e48d63c",
   "metadata": {},
   "source": [
    "The def keyword is used to create, (or define) a function."
   ]
  },
  {
   "cell_type": "code",
   "execution_count": 5,
   "id": "b0d71591-d222-4efc-9ea2-db3ce0f1e010",
   "metadata": {},
   "outputs": [
    {
     "name": "stdout",
     "output_type": "stream",
     "text": [
      "[1, 3, 5, 7, 9, 11, 13, 15, 17, 19, 21, 23, 25]\n"
     ]
    }
   ],
   "source": [
    "def odd_number(n):\n",
    "    return [x for x in range(n+1) if x % 2 == 1]\n",
    "print(odd_number(25))"
   ]
  },
  {
   "cell_type": "markdown",
   "id": "4bde1350-9388-4824-b709-6d7b6460f7f7",
   "metadata": {},
   "source": [
    "### Q2. Why *args and **kwargs is used in some functions? Create a function each for *args and **kwargs to demonstrate their use."
   ]
  },
  {
   "cell_type": "markdown",
   "id": "858b07e4-e297-4ec5-a119-3f1cef92a708",
   "metadata": {
    "tags": []
   },
   "source": [
    "## Definition\n",
    "In order to solve the above-discussed issues, we use special symbols used for passing a variable number of arguments to a function.\n",
    "\n",
    "In mathematical and programming language, we call these as Variadic functions i.e. one which accepts a variable number of arguments. Various programming languages support different variadic functions. Python programming language provides us with 2 variadic functions:"
   ]
  },
  {
   "cell_type": "markdown",
   "id": "30065870-016d-46c3-b9b2-a0370508c904",
   "metadata": {},
   "source": [
    "###  1.*args (Non-keyword Arguments/Positional Arguments) –\n"
   ]
  },
  {
   "cell_type": "markdown",
   "id": "3f059602-8f58-4ffb-90e6-a8809b8f7e07",
   "metadata": {},
   "source": [
    "*args allows a function to accept any number of positional arguments i.e. arguments that are non-keyword arguments, variable-length argument list."
   ]
  },
  {
   "cell_type": "markdown",
   "id": "d0a8b0f6-e6df-4aff-b94c-685e8a1859cf",
   "metadata": {},
   "source": [
    "### 2.**kwargs (Keyword Arguments) –\n"
   ]
  },
  {
   "cell_type": "markdown",
   "id": "a82aa693-ae10-49f8-bd1a-93f526574855",
   "metadata": {},
   "source": [
    "**kwargs is a special syntax that allows us to pass a variable length of keyword arguments to the function."
   ]
  },
  {
   "cell_type": "markdown",
   "id": "1fb59bb7-f90f-4367-87bd-36c1387d5c2b",
   "metadata": {},
   "source": [
    "## Python *args\n",
    "As we have seen the above programming issues arising due to number of arguments passing, Python has an *args which allows the user to pass a multiple number of arguments to the function. Python *args allows only Positional Arguments."
   ]
  },
  {
   "cell_type": "markdown",
   "id": "65ff70f7-62ba-4915-b55a-1a6fd4ba4fdd",
   "metadata": {},
   "source": [
    "Note – Positional Arguments are those arguments that do not contain any keyword related to the data value. For example, age = 38. Age is a keyword associated with data value 38. In Python *args, we do not define any keywords to the arguments while passing values to the function"
   ]
  },
  {
   "cell_type": "markdown",
   "id": "1e3d8969-1d04-4de3-9037-6ed5a4695fe0",
   "metadata": {},
   "source": [
    "We use the single-asterisk (*) symbol for passing it as a parameter to the functions.\n",
    "\n",
    "args is just a word, we need to use the (*) symbol before it.\n",
    "\n",
    "We can use any alphabet/word instead of args.\n",
    "\n",
    "*args accepts all the parameters passed to the function and computes the function operations for each of them."
   ]
  },
  {
   "cell_type": "markdown",
   "id": "bb159d8b-26f9-4ad8-9bc1-57a33bcb8c78",
   "metadata": {},
   "source": [
    "### Example"
   ]
  },
  {
   "cell_type": "code",
   "execution_count": 6,
   "id": "b2e9f3b3-80d0-47dd-b115-0ce61e6fed51",
   "metadata": {},
   "outputs": [],
   "source": [
    "def test(*args):\n",
    "    return args"
   ]
  },
  {
   "cell_type": "code",
   "execution_count": 7,
   "id": "b56f201d-fc17-4b60-b548-0163f0ad85a5",
   "metadata": {},
   "outputs": [
    {
     "data": {
      "text/plain": [
       "tuple"
      ]
     },
     "execution_count": 7,
     "metadata": {},
     "output_type": "execute_result"
    }
   ],
   "source": [
    "type(test())"
   ]
  },
  {
   "cell_type": "code",
   "execution_count": 8,
   "id": "f69c0b92-be12-49de-a2cd-2913945783c1",
   "metadata": {},
   "outputs": [
    {
     "data": {
      "text/plain": [
       "(1, 2, 3)"
      ]
     },
     "execution_count": 8,
     "metadata": {},
     "output_type": "execute_result"
    }
   ],
   "source": [
    "test(1,2,3)"
   ]
  },
  {
   "cell_type": "code",
   "execution_count": 9,
   "id": "61f6ed22-5a5e-41b8-8090-c18995439674",
   "metadata": {},
   "outputs": [],
   "source": [
    "\n",
    "def myFun(*argv):\n",
    "    for arg in argv:\n",
    "        print(arg)"
   ]
  },
  {
   "cell_type": "code",
   "execution_count": 10,
   "id": "7370f7aa-4e1d-4aca-8743-7badc0c0d190",
   "metadata": {},
   "outputs": [
    {
     "name": "stdout",
     "output_type": "stream",
     "text": [
      "Hello\n",
      "Welcome\n",
      "to\n",
      "pwskills\n"
     ]
    }
   ],
   "source": [
    "myFun('Hello', 'Welcome', 'to', 'pwskills')"
   ]
  },
  {
   "cell_type": "code",
   "execution_count": 11,
   "id": "6d17d192-87e4-4cc9-9b7c-ae918bb0a7c6",
   "metadata": {},
   "outputs": [],
   "source": [
    "# Program to add and display the sum of n number of integer\n",
    "def add(*num):\n",
    "    sum = 0;\n",
    "    for n in num:\n",
    "        sum = sum + n;\n",
    "    print(\"Sum:\", sum)"
   ]
  },
  {
   "cell_type": "code",
   "execution_count": 12,
   "id": "e13948b8-4d09-45d2-bba3-8c3159cd1507",
   "metadata": {},
   "outputs": [
    {
     "name": "stdout",
     "output_type": "stream",
     "text": [
      "Sum: 5\n",
      "Sum: 11\n",
      "Sum: 16\n"
     ]
    }
   ],
   "source": [
    "add(3,2)\n",
    "add(5,6)\n",
    "add(7,9)"
   ]
  },
  {
   "cell_type": "code",
   "execution_count": 13,
   "id": "bf9dbd1d-1af4-44ab-af3a-e2e4c426a0a8",
   "metadata": {},
   "outputs": [
    {
     "name": "stdout",
     "output_type": "stream",
     "text": [
      "Value of a is: Hey\n",
      " args are -> How \n",
      " args are -> are \n",
      " args are -> you? \n"
     ]
    }
   ],
   "source": [
    "# Program for printing all the strings passed to the function\n",
    "def func(a,*args):\n",
    "    print(\"Value of a is:\", a)\n",
    "    for i in args:\n",
    "        print(f' args are -> {i} ')\n",
    "\n",
    "func('Hey', 'How', 'are', 'you?')\n"
   ]
  },
  {
   "cell_type": "code",
   "execution_count": null,
   "id": "d97339cd-2d18-4c20-be76-b0a67ef87041",
   "metadata": {},
   "outputs": [],
   "source": []
  },
  {
   "cell_type": "markdown",
   "id": "fd3e6923-ce31-4bd7-8350-c65429721ea2",
   "metadata": {},
   "source": [
    "## Python **kwargs\n",
    "One limitation of Python *args is that it does not accept any keyword arguments. Consider the above example, the program will print all the values passed to the function. But how will we identify what London is? Is it the city he lives in? Is it the work location? Is it a state? What is 38? Is it age, salary, person_id? For such an issue, Python has a special symbol called as **kwargs."
   ]
  },
  {
   "cell_type": "markdown",
   "id": "4e45a7c0-7c10-4fe9-a83b-e80aca58cab3",
   "metadata": {},
   "source": [
    "**kwargs allows us to pass a variable number of keyworded arguments to the function. Python *kwargs allows only Keyword Arguments."
   ]
  },
  {
   "cell_type": "markdown",
   "id": "103b7314-ebb0-4b61-a8f7-a195dadcac80",
   "metadata": {},
   "source": [
    "We use a double-asterisk (**) before the parameter name in the function argument.\n",
    "\n",
    "Just like args, kwargs is just another idiom, we can use any other name but we need to use the (**) symbol before it.\n",
    "\n",
    "Keyword arguments are like a dictionary, which maps the value to its associated key."
   ]
  },
  {
   "cell_type": "markdown",
   "id": "995d1dfd-a9ea-4dad-988a-7aa3ef8551b5",
   "metadata": {},
   "source": [
    "### Example"
   ]
  },
  {
   "cell_type": "code",
   "execution_count": 14,
   "id": "fe0f2883-f364-475a-be74-c5fbadbfe701",
   "metadata": {},
   "outputs": [],
   "source": [
    "def test1(**kwargs):\n",
    "    return kwargs"
   ]
  },
  {
   "cell_type": "code",
   "execution_count": 15,
   "id": "06966899-5b73-4bb3-b270-9c09b7539489",
   "metadata": {},
   "outputs": [
    {
     "data": {
      "text/plain": [
       "{}"
      ]
     },
     "execution_count": 15,
     "metadata": {},
     "output_type": "execute_result"
    }
   ],
   "source": [
    "test1()"
   ]
  },
  {
   "cell_type": "code",
   "execution_count": 16,
   "id": "d4cea742-868e-45fe-8f1f-6b6c816e9508",
   "metadata": {},
   "outputs": [
    {
     "data": {
      "text/plain": [
       "dict"
      ]
     },
     "execution_count": 16,
     "metadata": {},
     "output_type": "execute_result"
    }
   ],
   "source": [
    "type(test1())"
   ]
  },
  {
   "cell_type": "code",
   "execution_count": 17,
   "id": "ecdf0c06-ddeb-47b7-b3a9-f0435a9ffe04",
   "metadata": {},
   "outputs": [
    {
     "data": {
      "text/plain": [
       "{'a': [1, 2, 3, 4], 'b': 'sudh', 'c': 23.45}"
      ]
     },
     "execution_count": 17,
     "metadata": {},
     "output_type": "execute_result"
    }
   ],
   "source": [
    "# Print values of function  along with its associated keywords\n",
    "test1(a = [1,2,3,4], b = \"sudh\", c = 23.45)"
   ]
  },
  {
   "cell_type": "code",
   "execution_count": 18,
   "id": "ab292862-c72c-4618-9509-a0f910aa40d6",
   "metadata": {},
   "outputs": [
    {
     "name": "stdout",
     "output_type": "stream",
     "text": [
      "1 3\n",
      "(10, 20)\n",
      "False\n",
      "{'Name': 'Tom', 'Salary': 60000}\n"
     ]
    }
   ],
   "source": [
    "                    \n",
    "def func(a, b, *args, option = False, **kwargs):\n",
    "    print(a, b)\n",
    "    print(args)\n",
    "    print(option)\n",
    "    print(kwargs)\n",
    "\n",
    "func(1, 3, 10, 20, Name = 'Tom', Salary = 60000)"
   ]
  },
  {
   "cell_type": "markdown",
   "id": "c2d08321-e406-4030-9cf4-d69a24835467",
   "metadata": {},
   "source": [
    "### Q3. What is an iterator in python? Name the method used to initialise the iterator object and the method used for iteration. Use these methods to print the first five elements of the given list [2, 4, 6, 8, 10, 12, 14,16, 18, 20]."
   ]
  },
  {
   "cell_type": "markdown",
   "id": "c8584ab5-b18f-4289-8e5b-0ba1e3c34a58",
   "metadata": {},
   "source": [
    "## Python Iterators\n",
    "An iterator is an object that contains a countable number of values.\n",
    "\n",
    "An iterator is an object that can be iterated upon, meaning that you can traverse through all the values.\n",
    "\n",
    "Technically, in Python, an iterator is an object which implements the iterator protocol, which consist of the methods __iter__() and __next__().\n",
    "\n"
   ]
  },
  {
   "cell_type": "markdown",
   "id": "ae9efb58-36f1-4f30-b3b7-3dec5a4e11ec",
   "metadata": {},
   "source": [
    "## Iterator vs Iterable\n",
    "Lists, tuples, dictionaries, and sets are all iterable objects. They are iterable containers which you can get an iterator from.\n",
    "\n",
    "All these objects have a iter() method which is used to get an iterator:"
   ]
  },
  {
   "cell_type": "markdown",
   "id": "4b0ac592-32f1-415f-b364-2da5f8d9397b",
   "metadata": {},
   "source": [
    "#### Example"
   ]
  },
  {
   "cell_type": "code",
   "execution_count": 19,
   "id": "7b8886fa-c633-4292-8a8f-a19df60e23fc",
   "metadata": {},
   "outputs": [
    {
     "name": "stdout",
     "output_type": "stream",
     "text": [
      "apple\n",
      "banana\n",
      "cherry\n"
     ]
    }
   ],
   "source": [
    "# Return an iterator from a tuple, and print each value:\n",
    "\n",
    "mytuple = (\"apple\", \"banana\", \"cherry\")\n",
    "myit = iter(mytuple)\n",
    "\n",
    "print(next(myit))\n",
    "print(next(myit))\n",
    "print(next(myit))"
   ]
  },
  {
   "cell_type": "code",
   "execution_count": 20,
   "id": "c7434229-139e-441d-98bf-f5d7344fd45b",
   "metadata": {},
   "outputs": [
    {
     "name": "stdout",
     "output_type": "stream",
     "text": [
      "b\n",
      "a\n",
      "n\n",
      "a\n",
      "n\n",
      "a\n"
     ]
    }
   ],
   "source": [
    "# Strings are also iterable objects, containing a sequence of characters:\n",
    "\n",
    "mystr = \"banana\"\n",
    "myit = iter(mystr)\n",
    "\n",
    "print(next(myit))\n",
    "print(next(myit))\n",
    "print(next(myit))\n",
    "print(next(myit))\n",
    "print(next(myit))\n",
    "print(next(myit))"
   ]
  },
  {
   "cell_type": "code",
   "execution_count": 21,
   "id": "e4c1c85f-6e65-4ed4-b100-c287d4c1302b",
   "metadata": {},
   "outputs": [
    {
     "name": "stdout",
     "output_type": "stream",
     "text": [
      "apple\n",
      "banana\n",
      "cherry\n"
     ]
    }
   ],
   "source": [
    "mytuple = (\"apple\", \"banana\", \"cherry\")\n",
    "\n",
    "for x in mytuple:\n",
    "      print(x)"
   ]
  },
  {
   "cell_type": "code",
   "execution_count": 22,
   "id": "0d65b92f-68d0-4f5b-9b59-f93f0dda4b50",
   "metadata": {},
   "outputs": [
    {
     "name": "stdout",
     "output_type": "stream",
     "text": [
      "b\n",
      "a\n",
      "n\n",
      "a\n",
      "n\n",
      "a\n"
     ]
    }
   ],
   "source": [
    "mystr = \"banana\"\n",
    "\n",
    "for x in mystr:\n",
    "      print(x)"
   ]
  },
  {
   "cell_type": "code",
   "execution_count": 23,
   "id": "675d022a-7f74-4b8c-a6c2-1508bb3613ad",
   "metadata": {},
   "outputs": [],
   "source": [
    " given_list = [2, 4, 6, 8, 10, 12, 14,16, 18, 20]"
   ]
  },
  {
   "cell_type": "code",
   "execution_count": 24,
   "id": "a0147191-1985-487d-832c-7752369cc40f",
   "metadata": {},
   "outputs": [],
   "source": [
    "litr = iter(given_list)"
   ]
  },
  {
   "cell_type": "code",
   "execution_count": 25,
   "id": "6bd9ab8f-87b6-49b4-a1fc-35f562b3ccc4",
   "metadata": {},
   "outputs": [
    {
     "name": "stdout",
     "output_type": "stream",
     "text": [
      "2\n",
      "4\n",
      "6\n",
      "8\n",
      "10\n"
     ]
    }
   ],
   "source": [
    "print(next(litr))\n",
    "print(next(litr))\n",
    "print(next(litr))\n",
    "print(next(litr))\n",
    "print(next(litr))"
   ]
  },
  {
   "cell_type": "markdown",
   "id": "578a2075-f79e-4aa8-9886-3b85697964fe",
   "metadata": {},
   "source": [
    "### Q4. What is a generator function in python? Why yield keyword is used? Give an example of a generator function."
   ]
  },
  {
   "cell_type": "markdown",
   "id": "11ae2a19-e2de-48ff-aaa1-d50a03100df9",
   "metadata": {},
   "source": [
    "## Generator funtion\n",
    "A Python generator function allows you to declare a function that behaves like an iterator, providing a faster and easier way to create iterators. They can be used on an abstract container of data to turn it into an iterable object like lists, dictionaries and strings."
   ]
  },
  {
   "cell_type": "markdown",
   "id": "b3ab934f-c6c5-480f-a28c-ac3535763596",
   "metadata": {},
   "source": [
    "### The yield Keyword\n",
    "The yield keyword in Python controls the flow of a generator function. This is similar to a return statement used for returning values in Python. However, there is a difference.\n",
    "\n",
    "When you call a function that has a yield statement, as soon as a yield is encountered, the execution of the function halts and returns a generator iterator object instead of simply returning a value. The state of the function, which includes variable bindings, the instruction pointer, the internal stack, and a few other things, is saved.\n",
    "\n",
    "In other words, the yield keyword will convert an expression that is specified along with it to a generator iterator, and return it to the caller.\n",
    "\n",
    "If you want to get the values stored inside the generator object, you need to iterate over it. You can iterate over it using for loops or special functions like next()."
   ]
  },
  {
   "cell_type": "markdown",
   "id": "01fe7a6f-2d34-4305-b256-8607bffe98df",
   "metadata": {},
   "source": [
    "#### Example"
   ]
  },
  {
   "cell_type": "code",
   "execution_count": 26,
   "id": "b23efbcf-9a23-45b8-8e34-3b26d2ea3b5f",
   "metadata": {},
   "outputs": [],
   "source": [
    "def simple_generator():\n",
    "    x = 1\n",
    "    yield x\n",
    "    yield x + 1\n",
    "    yield x + 2\n",
    "\n",
    "generator_object = simple_generator()"
   ]
  },
  {
   "cell_type": "code",
   "execution_count": 27,
   "id": "083c05fb-81ab-4254-b3e0-8f50c4353dba",
   "metadata": {},
   "outputs": [
    {
     "name": "stdout",
     "output_type": "stream",
     "text": [
      "1\n",
      "2\n",
      "3\n"
     ]
    }
   ],
   "source": [
    "for i in generator_object:\n",
    "    print(i)"
   ]
  },
  {
   "cell_type": "code",
   "execution_count": 28,
   "id": "adc77b5b-490e-4591-ae14-63a82867f38f",
   "metadata": {},
   "outputs": [],
   "source": [
    "# A simple generator for Fibonacci Numbers\n",
    "def test_fib(n):\n",
    "    a,b = 0,1\n",
    "    for i in range(n): # Iterating over the generator object using for loop.\n",
    "        yield a\n",
    "        a,b = b, a+b"
   ]
  },
  {
   "cell_type": "code",
   "execution_count": 29,
   "id": "d63b88de-5967-4d7a-9705-6fa30087e667",
   "metadata": {},
   "outputs": [
    {
     "name": "stdout",
     "output_type": "stream",
     "text": [
      "0\n",
      "1\n",
      "1\n",
      "2\n",
      "3\n",
      "5\n",
      "8\n",
      "13\n",
      "21\n",
      "34\n",
      "55\n",
      "89\n"
     ]
    }
   ],
   "source": [
    "for i in test_fib(12):\n",
    "    print(i)"
   ]
  },
  {
   "cell_type": "code",
   "execution_count": 30,
   "id": "0c92ae01-71e1-43d0-846a-88d60f775dfc",
   "metadata": {},
   "outputs": [],
   "source": [
    "def test_fib1():\n",
    "    a,b = 0,2\n",
    "    while True: # Iterating over the generator object using for loop.\n",
    "        yield a\n",
    "        a,b = b, a+b"
   ]
  },
  {
   "cell_type": "code",
   "execution_count": 31,
   "id": "e2887d63-820c-41bc-9aec-0485f3a12b0d",
   "metadata": {},
   "outputs": [],
   "source": [
    "fib = test_fib1()"
   ]
  },
  {
   "cell_type": "code",
   "execution_count": 32,
   "id": "8fd2fdf5-55c8-409a-a2e8-2d937f0e51e7",
   "metadata": {},
   "outputs": [
    {
     "name": "stdout",
     "output_type": "stream",
     "text": [
      "0\n",
      "2\n",
      "2\n",
      "4\n",
      "6\n",
      "10\n",
      "16\n",
      "26\n",
      "42\n",
      "68\n"
     ]
    }
   ],
   "source": [
    "for i in range(10):\n",
    "    print(next(fib))"
   ]
  },
  {
   "cell_type": "code",
   "execution_count": 33,
   "id": "610582a6-957c-401f-84f5-8a71d1747db6",
   "metadata": {},
   "outputs": [],
   "source": [
    "def test_num(n):\n",
    "    num  = 1\n",
    "    while num <=n:\n",
    "        yield num\n",
    "        num +=1"
   ]
  },
  {
   "cell_type": "code",
   "execution_count": 34,
   "id": "df5bfe53-37a3-4b77-bc73-efe714e6a7cc",
   "metadata": {},
   "outputs": [],
   "source": [
    "s = test_num(10)"
   ]
  },
  {
   "cell_type": "code",
   "execution_count": 35,
   "id": "cb3ae69f-e725-4534-be6f-7ad49b06ba08",
   "metadata": {},
   "outputs": [
    {
     "name": "stdout",
     "output_type": "stream",
     "text": [
      "1\n",
      "2\n",
      "3\n",
      "4\n",
      "5\n",
      "6\n",
      "7\n",
      "8\n",
      "9\n",
      "10\n"
     ]
    }
   ],
   "source": [
    "for i in s:\n",
    "    print(i)"
   ]
  },
  {
   "cell_type": "markdown",
   "id": "2ffef777-be5d-444a-9387-f7f1003c01f6",
   "metadata": {},
   "source": [
    "### Q5. Create a generator function for prime numbers less than 1000. Use the next() method to print the first 20 prime numbers."
   ]
  },
  {
   "cell_type": "code",
   "execution_count": 36,
   "id": "1afa2c0c-91d7-4648-b9c8-b2a2ea3739be",
   "metadata": {},
   "outputs": [],
   "source": [
    "from math import sqrt\n",
    "\n",
    "def is_prime(n):\n",
    "    if (n <= 1):\n",
    "        return False\n",
    "    if (n == 2):\n",
    "        return True\n",
    "    if (n % 2 == 0):\n",
    "        return False\n",
    "\n",
    "    i = 3\n",
    "    while i <= sqrt(n):\n",
    "        if n % i == 0:\n",
    "            return False\n",
    "        i = i + 2\n",
    "\n",
    "    return True"
   ]
  },
  {
   "cell_type": "code",
   "execution_count": 37,
   "id": "5ca07e8d-e173-4aea-ba46-a9a099416795",
   "metadata": {},
   "outputs": [],
   "source": [
    "def prime_generator():\n",
    "    n = 1\n",
    "    while True:\n",
    "        n += 1\n",
    "        if is_prime(n):\n",
    "            yield n"
   ]
  },
  {
   "cell_type": "code",
   "execution_count": 38,
   "id": "b5177dc9-0b38-4f38-bceb-2f468657966f",
   "metadata": {},
   "outputs": [
    {
     "name": "stdout",
     "output_type": "stream",
     "text": [
      "2\n",
      "3\n",
      "5\n",
      "7\n",
      "11\n",
      "13\n",
      "17\n",
      "19\n",
      "23\n",
      "29\n",
      "31\n",
      "37\n",
      "41\n",
      "43\n",
      "47\n",
      "53\n",
      "59\n",
      "61\n",
      "67\n",
      "71\n"
     ]
    }
   ],
   "source": [
    "generator = prime_generator()\n",
    "\n",
    "for i in range(20):\n",
    "    print(next(generator))"
   ]
  },
  {
   "cell_type": "markdown",
   "id": "a4f18efb-4007-4af5-ae89-37dc3cfda469",
   "metadata": {},
   "source": [
    "### Q6. Write a python program to print the first 10 Fibonacci numbers using a while loop."
   ]
  },
  {
   "cell_type": "code",
   "execution_count": 39,
   "id": "e41a35e7-9a85-4675-bb5f-b7c29c740ea9",
   "metadata": {},
   "outputs": [],
   "source": [
    "def fib_num():\n",
    "    a,b = 0,1\n",
    "    while True:\n",
    "        yield a\n",
    "        a,b = b,a+b"
   ]
  },
  {
   "cell_type": "code",
   "execution_count": 40,
   "id": "6b79de88-c614-4cf9-915f-64a20936196a",
   "metadata": {},
   "outputs": [],
   "source": [
    "fib = fib_num()"
   ]
  },
  {
   "cell_type": "code",
   "execution_count": 41,
   "id": "8091d1b4-30b7-49a6-8fd4-5d734eaaa0e1",
   "metadata": {},
   "outputs": [
    {
     "name": "stdout",
     "output_type": "stream",
     "text": [
      "0\n",
      "1\n",
      "1\n",
      "2\n",
      "3\n",
      "5\n",
      "8\n",
      "13\n",
      "21\n",
      "34\n"
     ]
    }
   ],
   "source": [
    "for i in range(10):\n",
    "    print(next(fib))"
   ]
  },
  {
   "cell_type": "markdown",
   "id": "73b14f56-f348-4ae6-9d9a-86c930510817",
   "metadata": {},
   "source": [
    "### Q7. Write a List Comprehension to iterate through the given string: ‘pwskills’.Expected output: ['p', 'w', 's', 'k', 'i', 'l', 'l', 's']"
   ]
  },
  {
   "cell_type": "code",
   "execution_count": 42,
   "id": "f0bdafcd-579c-4d70-a3ff-eb289ac8ec0b",
   "metadata": {},
   "outputs": [],
   "source": [
    "list = [x for x in \"pwskills\"]"
   ]
  },
  {
   "cell_type": "code",
   "execution_count": 43,
   "id": "6f6198a0-76e9-490d-8cbf-9acfabf6717f",
   "metadata": {},
   "outputs": [
    {
     "data": {
      "text/plain": [
       "['p', 'w', 's', 'k', 'i', 'l', 'l', 's']"
      ]
     },
     "execution_count": 43,
     "metadata": {},
     "output_type": "execute_result"
    }
   ],
   "source": [
    "list"
   ]
  },
  {
   "cell_type": "markdown",
   "id": "a955fe11-7385-4e43-94fb-24d0c171df00",
   "metadata": {},
   "source": [
    "### Q8. Write a python program to check whether a given number is Palindrome or not using a while loop."
   ]
  },
  {
   "cell_type": "code",
   "execution_count": 44,
   "id": "a83d99c8-700c-4763-8228-32ac4d43dea0",
   "metadata": {},
   "outputs": [
    {
     "name": "stdin",
     "output_type": "stream",
     "text": [
      "Enter any number : 121\n"
     ]
    },
    {
     "name": "stdout",
     "output_type": "stream",
     "text": [
      "The number is palindrome!\n"
     ]
    }
   ],
   "source": [
    "number=int(input(\"Enter any number :\"))\n",
    "#store a copy of this number\n",
    "temp=number\n",
    "#calculate reverse of this number\n",
    "reverse_num=0\n",
    "while(number>0):\n",
    "    #extract last digit of this number\n",
    "    digit=number%10\n",
    "    #append this digit in reveresed number\n",
    "    reverse_num=reverse_num*10+digit\n",
    "    #floor divide the number leave out the last digit from number\n",
    "    number=number//10\n",
    "#compare reverse to original number\n",
    "if(temp==reverse_num):\n",
    "    print(\"The number is palindrome!\")\n",
    "else:\n",
    "    print(\"Not a palindrome!\")"
   ]
  },
  {
   "cell_type": "markdown",
   "id": "0484d58e-2cfa-4e32-a17b-b982af1eef77",
   "metadata": {},
   "source": [
    "# Q9. Write a code to print odd numbers from 1 to 100 using list comprehension."
   ]
  },
  {
   "cell_type": "code",
   "execution_count": 45,
   "id": "ee7c3d33-dee3-4867-a92f-702ee64dd652",
   "metadata": {},
   "outputs": [],
   "source": [
    "list = [l for l in range(1,100,2)]"
   ]
  },
  {
   "cell_type": "code",
   "execution_count": 46,
   "id": "8be75e8e-3224-4c86-ab9b-9f0358b5f1af",
   "metadata": {},
   "outputs": [
    {
     "data": {
      "text/plain": [
       "[1,\n",
       " 3,\n",
       " 5,\n",
       " 7,\n",
       " 9,\n",
       " 11,\n",
       " 13,\n",
       " 15,\n",
       " 17,\n",
       " 19,\n",
       " 21,\n",
       " 23,\n",
       " 25,\n",
       " 27,\n",
       " 29,\n",
       " 31,\n",
       " 33,\n",
       " 35,\n",
       " 37,\n",
       " 39,\n",
       " 41,\n",
       " 43,\n",
       " 45,\n",
       " 47,\n",
       " 49,\n",
       " 51,\n",
       " 53,\n",
       " 55,\n",
       " 57,\n",
       " 59,\n",
       " 61,\n",
       " 63,\n",
       " 65,\n",
       " 67,\n",
       " 69,\n",
       " 71,\n",
       " 73,\n",
       " 75,\n",
       " 77,\n",
       " 79,\n",
       " 81,\n",
       " 83,\n",
       " 85,\n",
       " 87,\n",
       " 89,\n",
       " 91,\n",
       " 93,\n",
       " 95,\n",
       " 97,\n",
       " 99]"
      ]
     },
     "execution_count": 46,
     "metadata": {},
     "output_type": "execute_result"
    }
   ],
   "source": [
    "list"
   ]
  },
  {
   "cell_type": "code",
   "execution_count": 47,
   "id": "3c4e6de5-5bfa-4dbb-beb9-7a298cf7f9c6",
   "metadata": {},
   "outputs": [],
   "source": [
    "list1 = [i for i in range(100) if i % 2 != 0]"
   ]
  },
  {
   "cell_type": "code",
   "execution_count": 48,
   "id": "6445cfd2-e505-42b2-a388-7683fd7446ba",
   "metadata": {},
   "outputs": [
    {
     "data": {
      "text/plain": [
       "[1,\n",
       " 3,\n",
       " 5,\n",
       " 7,\n",
       " 9,\n",
       " 11,\n",
       " 13,\n",
       " 15,\n",
       " 17,\n",
       " 19,\n",
       " 21,\n",
       " 23,\n",
       " 25,\n",
       " 27,\n",
       " 29,\n",
       " 31,\n",
       " 33,\n",
       " 35,\n",
       " 37,\n",
       " 39,\n",
       " 41,\n",
       " 43,\n",
       " 45,\n",
       " 47,\n",
       " 49,\n",
       " 51,\n",
       " 53,\n",
       " 55,\n",
       " 57,\n",
       " 59,\n",
       " 61,\n",
       " 63,\n",
       " 65,\n",
       " 67,\n",
       " 69,\n",
       " 71,\n",
       " 73,\n",
       " 75,\n",
       " 77,\n",
       " 79,\n",
       " 81,\n",
       " 83,\n",
       " 85,\n",
       " 87,\n",
       " 89,\n",
       " 91,\n",
       " 93,\n",
       " 95,\n",
       " 97,\n",
       " 99]"
      ]
     },
     "execution_count": 48,
     "metadata": {},
     "output_type": "execute_result"
    }
   ],
   "source": [
    "list1"
   ]
  },
  {
   "cell_type": "markdown",
   "id": "687d3a5a-9d19-445a-aec3-f8408494fb9b",
   "metadata": {},
   "source": [
    "### Assignment End "
   ]
  }
 ],
 "metadata": {
  "kernelspec": {
   "display_name": "Python 3 (ipykernel)",
   "language": "python",
   "name": "python3"
  },
  "language_info": {
   "codemirror_mode": {
    "name": "ipython",
    "version": 3
   },
   "file_extension": ".py",
   "mimetype": "text/x-python",
   "name": "python",
   "nbconvert_exporter": "python",
   "pygments_lexer": "ipython3",
   "version": "3.10.8"
  }
 },
 "nbformat": 4,
 "nbformat_minor": 5
}
